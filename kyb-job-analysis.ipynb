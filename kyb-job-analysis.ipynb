{
 "cells": [
  {
   "cell_type": "code",
   "execution_count": null,
   "id": "ea1682cf",
   "metadata": {},
   "outputs": [
    {
     "ename": "UndefinedTable",
     "evalue": "relation \"kyb_job\" does not exist\n",
     "output_type": "error",
     "traceback": [
      "\u001b[31m---------------------------------------------------------------------------\u001b[39m",
      "\u001b[31mUndefinedTable\u001b[39m                            Traceback (most recent call last)",
      "\u001b[36mCell\u001b[39m\u001b[36m \u001b[39m\u001b[32mIn[3]\u001b[39m\u001b[32m, line 53\u001b[39m\n\u001b[32m     51\u001b[39m     \u001b[38;5;28mprint\u001b[39m(\u001b[33mf\u001b[39m\u001b[33m\"\u001b[39m\u001b[33mTable \u001b[39m\u001b[33m'\u001b[39m\u001b[38;5;132;01m{\u001b[39;00mtable_name\u001b[38;5;132;01m}\u001b[39;00m\u001b[33m'\u001b[39m\u001b[33m: \u001b[39m\u001b[38;5;132;01m{\u001b[39;00m\u001b[38;5;28mlen\u001b[39m(df)\u001b[38;5;132;01m}\u001b[39;00m\u001b[33m rows fetched\u001b[39m\u001b[33m\"\u001b[39m)\n\u001b[32m     52\u001b[39m     \u001b[38;5;28;01mreturn\u001b[39;00m df\n\u001b[32m---> \u001b[39m\u001b[32m53\u001b[39m kyb_job_df = \u001b[43mfetch_table_as_dataframe\u001b[49m\u001b[43m(\u001b[49m\u001b[33;43m\"\u001b[39;49m\u001b[33;43mkyb_job\u001b[39;49m\u001b[33;43m\"\u001b[39;49m\u001b[43m)\u001b[49m\n\u001b[32m     54\u001b[39m \u001b[38;5;66;03m# Display the results\u001b[39;00m\n\u001b[32m     55\u001b[39m \u001b[38;5;28mprint\u001b[39m(\u001b[33mf\u001b[39m\u001b[33m\"\u001b[39m\u001b[33mDataFrame shape: \u001b[39m\u001b[38;5;132;01m{\u001b[39;00mkyb_job_df.shape\u001b[38;5;132;01m}\u001b[39;00m\u001b[33m\"\u001b[39m)\n",
      "\u001b[36mCell\u001b[39m\u001b[36m \u001b[39m\u001b[32mIn[3]\u001b[39m\u001b[32m, line 43\u001b[39m, in \u001b[36mfetch_table_as_dataframe\u001b[39m\u001b[34m(table_name, where_clause, params)\u001b[39m\n\u001b[32m     41\u001b[39m     cur.execute(query, params)\n\u001b[32m     42\u001b[39m \u001b[38;5;28;01melse\u001b[39;00m:\n\u001b[32m---> \u001b[39m\u001b[32m43\u001b[39m     \u001b[43mcur\u001b[49m\u001b[43m.\u001b[49m\u001b[43mexecute\u001b[49m\u001b[43m(\u001b[49m\u001b[43mquery\u001b[49m\u001b[43m)\u001b[49m\n\u001b[32m     45\u001b[39m \u001b[38;5;66;03m# Fetch all rows and column names\u001b[39;00m\n\u001b[32m     46\u001b[39m rows = cur.fetchall()\n",
      "\u001b[31mUndefinedTable\u001b[39m: relation \"kyb_job\" does not exist\n"
     ]
    }
   ],
   "source": [
    "import pandas as pd\n",
    "import numpy as np\n",
    "import os\n",
    "import psycopg2\n",
    "import matplotlib.pyplot as plt\n",
    "import seaborn as sns\n",
    "from dotenv import load_dotenv\n",
    "\n",
    "load_dotenv()\n",
    "\n",
    "conn_params = {\n",
    "    \"dbname\": os.getenv(\"DB_NAME\"),\n",
    "    \"user\": os.getenv(\"DB_USER\"),\n",
    "    \"password\": os.getenv(\"DB_PASSWORD\"),\n",
    "    \"host\": os.getenv(\"DB_HOST\"),\n",
    "    \"port\": os.getenv(\"DB_PORT\", \"5432\"),\n",
    "}\n",
    "\n",
    "def fetch_table_as_dataframe(table_name, where_clause=None, params=None):\n",
    "    \"\"\"\n",
    "    Fetch an entire PostgreSQL table and convert it to a pandas DataFrame.\n",
    "    \n",
    "    Args:\n",
    "        table_name (str): Name of the table to fetch\n",
    "        where_clause (str, optional): WHERE clause for filtering (without 'WHERE' keyword)\n",
    "        params (tuple, optional): Parameters for the WHERE clause\n",
    "    \n",
    "    Returns:\n",
    "        pd.DataFrame: The table data as a DataFrame\n",
    "    \"\"\"\n",
    "    with psycopg2.connect(**conn_params) as conn:\n",
    "        with conn.cursor() as cur:\n",
    "            # Build the query\n",
    "            if where_clause:\n",
    "                query = f\"SELECT * FROM {table_name} WHERE {where_clause}\"\n",
    "            else:\n",
    "                query = f\"SELECT * FROM {table_name}\"\n",
    "            \n",
    "            # Execute query\n",
    "            if params:\n",
    "                cur.execute(query, params)\n",
    "            else:\n",
    "                cur.execute(query)\n",
    "            \n",
    "            # Fetch all rows and column names\n",
    "            rows = cur.fetchall()\n",
    "            columns = [desc[0] for desc in cur.description]\n",
    "    \n",
    "    # Create DataFrame\n",
    "    df = pd.DataFrame(rows, columns=columns)\n",
    "    print(f\"Table '{table_name}': {len(df)} rows fetched\")\n",
    "    return df\n",
    "\n",
    "kyb_job_df = fetch_table_as_dataframe(\"kyb_job\")\n",
    "# Display the results\n",
    "print(f\"DataFrame shape: {kyb_job_df.shape}\")\n",
    "print(\"\\nFirst few rows:\")\n",
    "print(kyb_job_df.head())"
   ]
  }
 ],
 "metadata": {
  "kernelspec": {
   "display_name": ".venv",
   "language": "python",
   "name": "python3"
  },
  "language_info": {
   "codemirror_mode": {
    "name": "ipython",
    "version": 3
   },
   "file_extension": ".py",
   "mimetype": "text/x-python",
   "name": "python",
   "nbconvert_exporter": "python",
   "pygments_lexer": "ipython3",
   "version": "3.13.5"
  }
 },
 "nbformat": 4,
 "nbformat_minor": 5
}
